{
 "cells": [
  {
   "cell_type": "code",
   "execution_count": 1,
   "metadata": {},
   "outputs": [],
   "source": [
    "import pandas as pd\n",
    "import os"
   ]
  },
  {
   "cell_type": "code",
   "execution_count": 4,
   "metadata": {},
   "outputs": [],
   "source": [
    "df = pd.read_csv('C:/Users/Choi/Desktop/train/train.tsv', sep='\\t', names = ['file_name', 'plant_label', 'disease_label'])\n",
    "train_df = df.sample(n=12000, random_state=42)\n",
    "valid_df = df.drop(train_df.index)\n",
    "val_list = [x for x in os.listdir('C:/Users/Choi/Desktop/train') if x in valid_df['file_name'].values]\n",
    "train_dir = 'C:/Users/Choi/Desktop/train'\n",
    "for file_name in val_list:\n",
    "    src = os.path.join(train_dir, file_name)\n",
    "    dst = os.path.join(train_dir + '/valid' , file_name)\n",
    "    os.rename(src,dst)\n",
    "\n",
    "train_df.to_csv('C:/Users/Choi/Desktop/train/train.tsv', sep = '\\t', header=False, index=False)\n",
    "valid_df.to_csv('C:/Users/Choi/Desktop/train/valid/valid.tsv', sep='\\t', header=False, index=False)"
   ]
  }
 ],
 "metadata": {
  "kernelspec": {
   "display_name": "Python 3",
   "language": "python",
   "name": "python3"
  },
  "language_info": {
   "codemirror_mode": {
    "name": "ipython",
    "version": 3
   },
   "file_extension": ".py",
   "mimetype": "text/x-python",
   "name": "python",
   "nbconvert_exporter": "python",
   "pygments_lexer": "ipython3",
   "version": "3.7.4"
  }
 },
 "nbformat": 4,
 "nbformat_minor": 2
}
