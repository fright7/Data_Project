{
 "cells": [
  {
   "cell_type": "code",
   "execution_count": 1,
   "metadata": {},
   "outputs": [],
   "source": [
    "import csv\n",
    "import shutil\n",
    "import os"
   ]
  },
  {
   "cell_type": "code",
   "execution_count": 4,
   "metadata": {},
   "outputs": [],
   "source": [
    "tsv_file = open(r\"C:/Users/Choi/Desktop/train/valid/valid.tsv\")\n",
    "read_tsv = csv.reader(tsv_file, delimiter=\"\\t\")"
   ]
  },
  {
   "cell_type": "code",
   "execution_count": 3,
   "metadata": {},
   "outputs": [],
   "source": [
    "from pathlib import Path\n",
    "\n",
    "count = 0 ##클래스 갯수\n",
    "class_name= {} ## 클래스 목록\n",
    "\n",
    "for row in read_tsv:#한줄씩 읽기\n",
    "    if bool(class_name.get('{0}_{1}_'.format(row[1],row[2]))) != True: #클래스가 있지 않다면\n",
    "        class_name['{0}_{1}_'.format(row[1],row[2])] = str(count) #새로 만들기\n",
    "        count += 1 # 클래스 번호 1 증가\n",
    "    p = Path('{0}'.format(class_name['{0}_{1}_'.format(row[1],row[2])])) #폴더이름? 지정\n",
    "    try:\n",
    "        p.mkdir() # 클래스폴더 만들기\n",
    "        shutil.move( r\"C:/Users/Choi/Desktop/train/valid/{0}\".format(row[0]), p)# 파일 이동\n",
    "    except FileExistsError as e: # 이미 있으면\n",
    "        shutil.move( r\"C:/Users/Choi/Desktop/train/valid/{0}\".format(row[0]), p) # 파일 이동 하고 다음 행으로"
   ]
  },
  {
   "cell_type": "code",
   "execution_count": 254,
   "metadata": {},
   "outputs": [
    {
     "data": {
      "text/plain": [
       "{'3_5_': '0',\n",
       " '3_20_': '1',\n",
       " '4_2_': '2',\n",
       " '4_7_': '3',\n",
       " '4_11_': '4',\n",
       " '5_8_': '5',\n",
       " '7_1_': '6',\n",
       " '7_20_': '7',\n",
       " '8_6_': '8',\n",
       " '8_9_': '9',\n",
       " '10_20_': '10',\n",
       " '11_14_': '11',\n",
       " '13_1_': '12',\n",
       " '13_6_': '13',\n",
       " '13_9_': '14',\n",
       " '13_15_': '15',\n",
       " '13_16_': '16',\n",
       " '13_17_': '17',\n",
       " '13_18_': '18',\n",
       " '13_20_': '19'}"
      ]
     },
     "execution_count": 254,
     "metadata": {},
     "output_type": "execute_result"
    }
   ],
   "source": [
    "class_name"
   ]
  },
  {
   "cell_type": "code",
   "execution_count": 8,
   "metadata": {},
   "outputs": [],
   "source": [
    "for name in class_name.values():\n",
    "    shutil.move(r'C:/Users/Choi/{0}'.format(name), r'C:/Users/Choi/Desktop/Classify/') ## 앞에건 현재 위치, ##뒤에건 상위폴더(train or  test )"
   ]
  },
  {
   "cell_type": "code",
   "execution_count": null,
   "metadata": {},
   "outputs": [],
   "source": []
  },
  {
   "cell_type": "code",
   "execution_count": null,
   "metadata": {},
   "outputs": [],
   "source": []
  },
  {
   "cell_type": "code",
   "execution_count": 159,
   "metadata": {},
   "outputs": [],
   "source": [
    "test = {}"
   ]
  },
  {
   "cell_type": "code",
   "execution_count": 163,
   "metadata": {},
   "outputs": [],
   "source": [
    "if bool(test.get(\"abcd\")) != True: test[\"abcd\"] = 4"
   ]
  },
  {
   "cell_type": "code",
   "execution_count": 164,
   "metadata": {},
   "outputs": [
    {
     "data": {
      "text/plain": [
       "{'abcd': 4}"
      ]
     },
     "execution_count": 164,
     "metadata": {},
     "output_type": "execute_result"
    }
   ],
   "source": [
    "test"
   ]
  },
  {
   "cell_type": "code",
   "execution_count": 7,
   "metadata": {},
   "outputs": [
    {
     "name": "stdout",
     "output_type": "stream",
     "text": [
      "C:\\Users\\Choi\n"
     ]
    }
   ],
   "source": [
    "print(os.getcwd())"
   ]
  },
  {
   "cell_type": "code",
   "execution_count": null,
   "metadata": {},
   "outputs": [],
   "source": []
  }
 ],
 "metadata": {
  "kernelspec": {
   "display_name": "Python 3",
   "language": "python",
   "name": "python3"
  },
  "language_info": {
   "codemirror_mode": {
    "name": "ipython",
    "version": 3
   },
   "file_extension": ".py",
   "mimetype": "text/x-python",
   "name": "python",
   "nbconvert_exporter": "python",
   "pygments_lexer": "ipython3",
   "version": "3.7.4"
  }
 },
 "nbformat": 4,
 "nbformat_minor": 4
}
